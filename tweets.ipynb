{
 "cells": [
  {
   "cell_type": "code",
   "execution_count": 1,
   "id": "04d3eb4f",
   "metadata": {},
   "outputs": [],
   "source": [
    "import opendatasets as od\n",
    "import pandas as pd\n",
    "import os\n",
    "import re"
   ]
  },
  {
   "cell_type": "markdown",
   "id": "201f7fa7",
   "metadata": {},
   "source": [
    "En primer lugar cargamos los datos, para lo cual usamos od según el siguiente tutorial https://www.analyticsvidhya.com/blog/2021/04/how-to-download-kaggle-datasets-using-jupyter-notebook/"
   ]
  },
  {
   "cell_type": "code",
   "execution_count": null,
   "id": "f4e5a43f",
   "metadata": {},
   "outputs": [
    {
     "name": "stdout",
     "output_type": "stream",
     "text": [
      "Please provide your Kaggle credentials to download this dataset. Learn more: http://bit.ly/kaggle-creds\n",
      "Your Kaggle username: felipec7\n",
      "Your Kaggle Key: ········\n",
      "Downloading farmers-protest-tweets-dataset-raw-json.zip to .\\farmers-protest-tweets-dataset-raw-json\n"
     ]
    },
    {
     "name": "stderr",
     "output_type": "stream",
     "text": [
      "100%|███████████████████████████████████████████████████████████████████████████████| 191M/191M [00:05<00:00, 35.7MB/s]\n"
     ]
    },
    {
     "name": "stdout",
     "output_type": "stream",
     "text": [
      "\n"
     ]
    }
   ],
   "source": [
    "URL = 'https://www.kaggle.com/prathamsharma123/farmers-protest-tweets-dataset-raw-json'\n",
    "od.download(URL)"
   ]
  },
  {
   "cell_type": "code",
   "execution_count": null,
   "id": "3cbd3aac",
   "metadata": {},
   "outputs": [],
   "source": [
    "dataset = os.path.join(\"farmers-protest-tweets-dataset-raw-json\", \"farmers-protest-tweets-2021-03-5.json\")\n",
    "df = pd.read_json(dataset, lines=True)\n",
    "df.head()"
   ]
  }
 ],
 "metadata": {
  "kernelspec": {
   "display_name": "Python 3 (ipykernel)",
   "language": "python",
   "name": "python3"
  },
  "language_info": {
   "codemirror_mode": {
    "name": "ipython",
    "version": 3
   },
   "file_extension": ".py",
   "mimetype": "text/x-python",
   "name": "python",
   "nbconvert_exporter": "python",
   "pygments_lexer": "ipython3",
   "version": "3.8.9"
  }
 },
 "nbformat": 4,
 "nbformat_minor": 5
}
